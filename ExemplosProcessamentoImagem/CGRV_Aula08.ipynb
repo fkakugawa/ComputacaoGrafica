{
  "nbformat": 4,
  "nbformat_minor": 0,
  "metadata": {
    "colab": {
      "provenance": []
    },
    "kernelspec": {
      "name": "python3",
      "display_name": "Python 3"
    },
    "language_info": {
      "name": "python"
    }
  },
  "cells": [
    {
      "cell_type": "code",
      "execution_count": null,
      "metadata": {
        "id": "zaCqSx7aM5eO"
      },
      "outputs": [],
      "source": [
        "import cv2 as cv\n",
        "from google.colab.patches import cv2_imshow\n",
        "import numpy as np\n",
        "\n",
        "imagem = cv.imread('MM.jpg')\n",
        "cv2_imshow(imagem)"
      ]
    },
    {
      "cell_type": "code",
      "source": [
        "img_cinza = cv.cvtColor(imagem, cv.COLOR_BGR2GRAY)\n",
        "cv2_imshow(img_cinza)"
      ],
      "metadata": {
        "id": "h7vKSvmhNten"
      },
      "execution_count": null,
      "outputs": []
    },
    {
      "cell_type": "code",
      "source": [
        "print(img_cinza.shape[0])\n",
        "print(img_cinza.shape[1])\n",
        "cv.imwrite('MMCinza.jpg', img_cinza)"
      ],
      "metadata": {
        "id": "ht9WIGmLOSYP"
      },
      "execution_count": null,
      "outputs": []
    },
    {
      "cell_type": "code",
      "source": [
        "novoTamanho = (4000, 4000)\n",
        "img_menor = cv.resize(img_cinza, novoTamanho, interpolation = cv.INTER_AREA)\n",
        "cv2_imshow(img_menor)\n",
        "cv.imwrite('MMMenor.jpg', img_menor)"
      ],
      "metadata": {
        "id": "qZQ-aXpcOcFf"
      },
      "execution_count": null,
      "outputs": []
    },
    {
      "cell_type": "code",
      "source": [
        "print(img_menor.shape[0])"
      ],
      "metadata": {
        "id": "aYN0ok7gSvZD"
      },
      "execution_count": null,
      "outputs": []
    },
    {
      "cell_type": "code",
      "source": [
        "fator = 32\n",
        "img_cinza_8 = np.uint8(img_cinza/fator)*fator\n",
        "cv2_imshow(img_cinza_8)"
      ],
      "metadata": {
        "id": "fqeQzFxnRNql"
      },
      "execution_count": null,
      "outputs": []
    }
  ]
}