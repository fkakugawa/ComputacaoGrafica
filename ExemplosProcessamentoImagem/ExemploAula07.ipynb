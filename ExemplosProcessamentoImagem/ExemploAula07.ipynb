{
  "cells": [
    {
      "cell_type": "code",
      "execution_count": null,
      "metadata": {
        "id": "GIJWo7ehZ3AS"
      },
      "outputs": [],
      "source": [
        "import cv2\n",
        "from google.colab.patches import cv2_imshow"
      ]
    },
    {
      "cell_type": "markdown",
      "metadata": {
        "id": "-3XBc6_xz3EU"
      },
      "source": []
    },
    {
      "cell_type": "code",
      "execution_count": null,
      "metadata": {
        "colab": {
          "background_save": true
        },
        "id": "DUlFSWW_0qeb"
      },
      "outputs": [],
      "source": [
        "imagem = cv2.imread('mm.jpg')\n",
        "cv2_imshow(imagem)"
      ]
    },
    {
      "cell_type": "code",
      "execution_count": null,
      "metadata": {
        "id": "aN2udgWP1_bq"
      },
      "outputs": [],
      "source": [
        "print('altura de pixels', imagem.shape[0])"
      ]
    },
    {
      "cell_type": "code",
      "execution_count": null,
      "metadata": {
        "id": "tcUY38vU3IuD"
      },
      "outputs": [],
      "source": [
        "print('largura em pixels', imagem.shape[1])"
      ]
    },
    {
      "cell_type": "code",
      "execution_count": null,
      "metadata": {
        "id": "BaixwH0P3TkL"
      },
      "outputs": [],
      "source": [
        "print('quantidade de canais', imagem.shape[2])"
      ]
    },
    {
      "cell_type": "code",
      "execution_count": null,
      "metadata": {
        "id": "6i2SV8w43x1t"
      },
      "outputs": [],
      "source": [
        "imagem"
      ]
    },
    {
      "cell_type": "code",
      "execution_count": null,
      "metadata": {
        "id": "HGN9ZXlaAP8I"
      },
      "outputs": [],
      "source": [
        "print(type(imagem))"
      ]
    }
  ],
  "metadata": {
    "colab": {
      "provenance": []
    },
    "kernelspec": {
      "display_name": "Python 3",
      "name": "python3"
    },
    "language_info": {
      "name": "python"
    }
  },
  "nbformat": 4,
  "nbformat_minor": 0
}